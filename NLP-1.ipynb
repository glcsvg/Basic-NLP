{
 "cells": [
  {
   "cell_type": "code",
   "execution_count": null,
   "id": "e3f396c5",
   "metadata": {},
   "outputs": [],
   "source": []
  },
  {
   "cell_type": "code",
   "execution_count": 5,
   "id": "8f6cfeaa",
   "metadata": {},
   "outputs": [],
   "source": [
    "#import gensim\n",
    "import nltk\n",
    "import sklearn\n",
    "import pandas as pd\n",
    "import numpy as np\n",
    "import matplotlib\n",
    "\n",
    "import re\n",
    "import codecs\n",
    "import itertools\n",
    "import matplotlib.pyplot as plt\n"
   ]
  },
  {
   "cell_type": "code",
   "execution_count": 6,
   "id": "8679c8e5",
   "metadata": {},
   "outputs": [
    {
     "data": {
      "text/plain": [
       "Index(['text', 'choose_one', 'class_label'], dtype='object')"
      ]
     },
     "execution_count": 6,
     "metadata": {},
     "output_type": "execute_result"
    }
   ],
   "source": [
    "input_file = codecs.open(\"socialmedia_relevant_cols.csv\", \"r\",encoding='utf-8', errors='replace')\n",
    "\n",
    "# read_csv will turn CSV files into dataframes\n",
    "questions = pd.read_csv(input_file)\n",
    "questions.columns\n",
    "\n"
   ]
  },
  {
   "cell_type": "code",
   "execution_count": 7,
   "id": "f26ab667",
   "metadata": {},
   "outputs": [
    {
     "data": {
      "text/html": [
       "<div>\n",
       "<style scoped>\n",
       "    .dataframe tbody tr th:only-of-type {\n",
       "        vertical-align: middle;\n",
       "    }\n",
       "\n",
       "    .dataframe tbody tr th {\n",
       "        vertical-align: top;\n",
       "    }\n",
       "\n",
       "    .dataframe thead th {\n",
       "        text-align: right;\n",
       "    }\n",
       "</style>\n",
       "<table border=\"1\" class=\"dataframe\">\n",
       "  <thead>\n",
       "    <tr style=\"text-align: right;\">\n",
       "      <th></th>\n",
       "      <th>text</th>\n",
       "      <th>choose_one</th>\n",
       "      <th>class_label</th>\n",
       "    </tr>\n",
       "  </thead>\n",
       "  <tbody>\n",
       "    <tr>\n",
       "      <th>0</th>\n",
       "      <td>Just happened a terrible car crash</td>\n",
       "      <td>Relevant</td>\n",
       "      <td>1</td>\n",
       "    </tr>\n",
       "    <tr>\n",
       "      <th>1</th>\n",
       "      <td>Our Deeds are the Reason of this #earthquake M...</td>\n",
       "      <td>Relevant</td>\n",
       "      <td>1</td>\n",
       "    </tr>\n",
       "    <tr>\n",
       "      <th>2</th>\n",
       "      <td>Heard about #earthquake is different cities, s...</td>\n",
       "      <td>Relevant</td>\n",
       "      <td>1</td>\n",
       "    </tr>\n",
       "    <tr>\n",
       "      <th>3</th>\n",
       "      <td>there is a forest fire at spot pond, geese are...</td>\n",
       "      <td>Relevant</td>\n",
       "      <td>1</td>\n",
       "    </tr>\n",
       "    <tr>\n",
       "      <th>4</th>\n",
       "      <td>Forest fire near La Ronge Sask. Canada</td>\n",
       "      <td>Relevant</td>\n",
       "      <td>1</td>\n",
       "    </tr>\n",
       "  </tbody>\n",
       "</table>\n",
       "</div>"
      ],
      "text/plain": [
       "                                                text choose_one  class_label\n",
       "0                 Just happened a terrible car crash   Relevant            1\n",
       "1  Our Deeds are the Reason of this #earthquake M...   Relevant            1\n",
       "2  Heard about #earthquake is different cities, s...   Relevant            1\n",
       "3  there is a forest fire at spot pond, geese are...   Relevant            1\n",
       "4             Forest fire near La Ronge Sask. Canada   Relevant            1"
      ]
     },
     "execution_count": 7,
     "metadata": {},
     "output_type": "execute_result"
    }
   ],
   "source": [
    "questions.head()"
   ]
  },
  {
   "cell_type": "code",
   "execution_count": 8,
   "id": "9e0ed1c0",
   "metadata": {},
   "outputs": [],
   "source": [
    "def standardize_text(df, text_field):\n",
    "    # normalize by turning all letters into lowercase\n",
    "    df[text_field] = df[text_field].str.lower()\n",
    "    # get rid of URLS\n",
    "    #df[text_field] = df[text_field].apply(lambda elem: re.sub(r\"http\\S+\", \"\", elem))  \n",
    "    df[text_field] = df[text_field].apply(lambda y: re.sub(r\"[^a-zA-Z]\", \" \", y))  \n",
    "    \n",
    "    return df"
   ]
  },
  {
   "cell_type": "code",
   "execution_count": 9,
   "id": "61fabb33",
   "metadata": {},
   "outputs": [
    {
     "name": "stdout",
     "output_type": "stream",
     "text": [
      "                                                text choose_one  class_label\n",
      "0                 just happened a terrible car crash   Relevant            1\n",
      "1  our deeds are the reason of this  earthquake m...   Relevant            1\n",
      "2  heard about  earthquake is different cities  s...   Relevant            1\n",
      "3  there is a forest fire at spot pond  geese are...   Relevant            1\n",
      "4             forest fire near la ronge sask  canada   Relevant            1\n"
     ]
    }
   ],
   "source": [
    "clean_questions = standardize_text(questions, \"text\")\n",
    "\n",
    "print(clean_questions.head())"
   ]
  },
  {
   "cell_type": "code",
   "execution_count": 10,
   "id": "1df6fe7c",
   "metadata": {},
   "outputs": [
    {
     "data": {
      "text/html": [
       "<div>\n",
       "<style scoped>\n",
       "    .dataframe tbody tr th:only-of-type {\n",
       "        vertical-align: middle;\n",
       "    }\n",
       "\n",
       "    .dataframe tbody tr th {\n",
       "        vertical-align: top;\n",
       "    }\n",
       "\n",
       "    .dataframe thead th {\n",
       "        text-align: right;\n",
       "    }\n",
       "</style>\n",
       "<table border=\"1\" class=\"dataframe\">\n",
       "  <thead>\n",
       "    <tr style=\"text-align: right;\">\n",
       "      <th></th>\n",
       "      <th>text</th>\n",
       "      <th>choose_one</th>\n",
       "    </tr>\n",
       "    <tr>\n",
       "      <th>class_label</th>\n",
       "      <th></th>\n",
       "      <th></th>\n",
       "    </tr>\n",
       "  </thead>\n",
       "  <tbody>\n",
       "    <tr>\n",
       "      <th>0</th>\n",
       "      <td>6187</td>\n",
       "      <td>6187</td>\n",
       "    </tr>\n",
       "    <tr>\n",
       "      <th>1</th>\n",
       "      <td>4673</td>\n",
       "      <td>4673</td>\n",
       "    </tr>\n",
       "    <tr>\n",
       "      <th>2</th>\n",
       "      <td>16</td>\n",
       "      <td>16</td>\n",
       "    </tr>\n",
       "  </tbody>\n",
       "</table>\n",
       "</div>"
      ],
      "text/plain": [
       "             text  choose_one\n",
       "class_label                  \n",
       "0            6187        6187\n",
       "1            4673        4673\n",
       "2              16          16"
      ]
     },
     "execution_count": 10,
     "metadata": {},
     "output_type": "execute_result"
    }
   ],
   "source": [
    "clean_questions.groupby(\"class_label\").count()"
   ]
  },
  {
   "cell_type": "code",
   "execution_count": null,
   "id": "028e56fc",
   "metadata": {},
   "outputs": [],
   "source": [
    "\n",
    "# =============================================================================\n",
    "#\n",
    "# \n",
    "# questions[\"text\"]=questions[\"text\"].word_tokenize(questions[\"text\"]\n",
    "# \n",
    "# ============================================================================="
   ]
  },
  {
   "cell_type": "code",
   "execution_count": 11,
   "id": "9656c51d",
   "metadata": {},
   "outputs": [],
   "source": [
    "from nltk.tokenize import RegexpTokenizer\n",
    "\n",
    "tokenizer = RegexpTokenizer(r'\\w+')\n",
    "\n",
    "clean_questions[\"tokens\"] = clean_questions[\"text\"].apply(tokenizer.tokenize)\n"
   ]
  },
  {
   "cell_type": "code",
   "execution_count": 12,
   "id": "e2313237",
   "metadata": {},
   "outputs": [
    {
     "name": "stdout",
     "output_type": "stream",
     "text": [
      "189648 words total, with a vocabulary size of 28523\n",
      "Max sentence length is 33\n"
     ]
    }
   ],
   "source": [
    "all_words = [word for tokens in clean_questions[\"tokens\"] for word in tokens]\n",
    "sentence_lengths = [len(tokens) for tokens in clean_questions[\"tokens\"]]\n",
    "VOCAB = sorted(list(set(all_words)))\n",
    "print(\"%s words total, with a vocabulary size of %s\" % (len(all_words), len(VOCAB)))\n",
    "print(\"Max sentence length is %s\" % max(sentence_lengths))"
   ]
  },
  {
   "cell_type": "code",
   "execution_count": 13,
   "id": "b943f8b2",
   "metadata": {},
   "outputs": [
    {
     "name": "stdout",
     "output_type": "stream",
     "text": [
      "['a', 'aa', 'aaaa', 'aaaaaaallll', 'aaaaaand', 'aaarrrgghhh', 'aace', 'aaffndcdnq', 'aag', 'aahyoeitzl', 'aal', 'aamir', 'aan', 'aannnnd', 'aapatwork', 'aar', 'aaron', 'aarongoodwin', 'aaronkearneyaus', 'aaronthefm', 'aasfmvbl', 'aashiqui', 'aassfrdp', 'aatt', 'aauizggc', 'aawmx', 'aawzxykles', 'ab', 'aba', 'abandon', 'abandoned', 'abandonedpics', 'abandoning', 'abandons', 'abba', 'abbandoned', 'abbog', 'abbott', 'abbruchsimulator', 'abbss', 'abbswinston', 'abbyairshow', 'abbydphillip', 'abc', 'abcfmelissajoey', 'abcnetwork', 'abcnews', 'abcnorio', 'abdul', 'abe', 'abella', 'aberdeen', 'aberdeenfanpage', 'aberdeenfc', 'aberystwyth', 'abgct', 'abgfglh', 'abh', 'abha', 'abia', 'abide', 'ability', 'abject', 'abkhbhnloz', 'ablaze', 'able', 'ableg', 'ablz', 'abninfvet', 'abnormally', 'abnzqwlig', 'aboard', 'abolishing', 'abolxmh', 'abomb', 'abomination', 'aboooooortiooooonnnnns', 'aboriginal', 'aborted', 'abortion', 'abortions', 'abounds', 'about', 'abouts', 'above', 'aboveandbeyond', 'abpmlymhnk', 'abq', 'abran', 'abrianna', 'abs', 'absence', 'absol', 'absolut', 'absolute', 'absolutely', 'abstorm', 'abstract', 'absurd', 'absurdly']\n"
     ]
    }
   ],
   "source": [
    "print (VOCAB[0:100])"
   ]
  },
  {
   "cell_type": "code",
   "execution_count": 14,
   "id": "7a710c29",
   "metadata": {
    "scrolled": true
   },
   "outputs": [
    {
     "data": {
      "text/plain": [
       "[('t', 7636),\n",
       " ('co', 6812),\n",
       " ('http', 6161),\n",
       " ('the', 4628),\n",
       " ('a', 3264),\n",
       " ('to', 2840),\n",
       " ('in', 2815),\n",
       " ('i', 2656),\n",
       " ('of', 2612),\n",
       " ('and', 2026),\n",
       " ('s', 1534),\n",
       " ('is', 1396),\n",
       " ('you', 1289),\n",
       " ('for', 1247),\n",
       " ('on', 1241),\n",
       " ('it', 1145),\n",
       " ('my', 980),\n",
       " ('that', 855),\n",
       " ('with', 799),\n",
       " ('by', 782),\n",
       " ('at', 749),\n",
       " ('this', 705),\n",
       " ('https', 619),\n",
       " ('from', 615),\n",
       " ('m', 611),\n",
       " ('be', 604),\n",
       " ('are', 603),\n",
       " ('was', 554),\n",
       " ('have', 513),\n",
       " ('amp', 510),\n",
       " ('like', 493),\n",
       " ('as', 488),\n",
       " ('up', 479),\n",
       " ('just', 459),\n",
       " ('we', 454),\n",
       " ('me', 451),\n",
       " ('but', 436),\n",
       " ('so', 435),\n",
       " ('not', 432),\n",
       " ('your', 430),\n",
       " ('out', 413),\n",
       " ('no', 405),\n",
       " ('all', 381),\n",
       " ('will', 372),\n",
       " ('after', 370),\n",
       " ('fire', 367),\n",
       " ('when', 365),\n",
       " ('an', 364),\n",
       " ('can', 362),\n",
       " ('if', 358),\n",
       " ('he', 356),\n",
       " ('has', 342),\n",
       " ('get', 337),\n",
       " ('new', 331),\n",
       " ('they', 327),\n",
       " ('more', 325),\n",
       " ('via', 325),\n",
       " ('news', 315),\n",
       " ('about', 312),\n",
       " ('now', 312),\n",
       " ('what', 311),\n",
       " ('u', 300),\n",
       " ('or', 296),\n",
       " ('how', 294),\n",
       " ('one', 286),\n",
       " ('people', 285),\n",
       " ('who', 272),\n",
       " ('w', 268),\n",
       " ('there', 267),\n",
       " ('over', 258),\n",
       " ('d', 256),\n",
       " ('don', 256),\n",
       " ('do', 253),\n",
       " ('been', 249),\n",
       " ('re', 244),\n",
       " ('into', 239),\n",
       " ('emergency', 229),\n",
       " ('video', 229),\n",
       " ('disaster', 220),\n",
       " ('would', 214),\n",
       " ('o', 206),\n",
       " ('x', 201),\n",
       " ('police', 200),\n",
       " ('her', 198),\n",
       " ('p', 197),\n",
       " ('his', 191),\n",
       " ('c', 189),\n",
       " ('than', 188),\n",
       " ('b', 188),\n",
       " ('us', 186),\n",
       " ('time', 186),\n",
       " ('were', 182),\n",
       " ('still', 180),\n",
       " ('r', 180),\n",
       " ('some', 179),\n",
       " ('body', 179),\n",
       " ('n', 177),\n",
       " ('suicide', 177),\n",
       " ('why', 176),\n",
       " ('rt', 174)]"
      ]
     },
     "execution_count": 14,
     "metadata": {},
     "output_type": "execute_result"
    }
   ],
   "source": [
    "# What are the most commonly occuring words\n",
    "from collections import Counter\n",
    "count_all_words = Counter(all_words)\n",
    "\n",
    "# get the top 100 most common occuring words\n",
    "count_all_words.most_common(100)"
   ]
  },
  {
   "cell_type": "code",
   "execution_count": 15,
   "id": "43bc5c20",
   "metadata": {},
   "outputs": [
    {
     "data": {
      "image/png": "[encoded data removed]",
      "text/plain": [
       "<Figure size 720x720 with 1 Axes>"
      ]
     },
     "metadata": {
      "needs_background": "light"
     },
     "output_type": "display_data"
    }
   ],
   "source": [
    "fig = plt.figure(figsize=(10, 10)) \n",
    "plt.xlabel('Sentence length')\n",
    "plt.ylabel('Number of sentences')\n",
    "plt.hist(sentence_lengths)\n",
    "plt.show()"
   ]
  },
  {
   "cell_type": "code",
   "execution_count": 16,
   "id": "a7a31f85",
   "metadata": {},
   "outputs": [
    {
     "name": "stdout",
     "output_type": "stream",
     "text": [
      "Training set: 8700 samples\n",
      "Test set: 2176 samples\n"
     ]
    }
   ],
   "source": [
    "from sklearn.model_selection import train_test_split\n",
    "\n",
    "list_corpus = clean_questions[\"text\"]\n",
    "list_labels = clean_questions[\"class_label\"]\n",
    "\n",
    "X_train, X_test, y_train, y_test = train_test_split(list_corpus, list_labels, test_size=0.2, random_state=40)\n",
    "\n",
    "print(\"Training set: %d samples\" % len(X_train))\n",
    "print(\"Test set: %d samples\" % len(X_test))"
   ]
  },
  {
   "cell_type": "code",
   "execution_count": 17,
   "id": "f01bbbfc",
   "metadata": {},
   "outputs": [
    {
     "name": "stdout",
     "output_type": "stream",
     "text": [
      "2354         thehighfessions   my friend came to school...\n",
      "9734     dtn india  rly tragedy in mp  some live to rec...\n",
      "9332      ddnewslive  nitishkumar  and  arvindkejriwal ...\n",
      "10831    three days off from work and they ve pretty mu...\n",
      "3125     malaysian officials say debris found on reunio...\n",
      "9836      arobotlegion so be it  you can t tell an oppr...\n",
      "302            annihilated abs      http   t co  xpw   tje\n",
      "9872     america like south africa is a traumatised sic...\n",
      "4638     get emergency edmonton locksmith services  in ...\n",
      "9309       things all affiliate marketers need to survi...\n",
      "Name: text, dtype: object\n"
     ]
    }
   ],
   "source": [
    "print (X_train[:10])"
   ]
  },
  {
   "cell_type": "code",
   "execution_count": 18,
   "id": "f5039893",
   "metadata": {},
   "outputs": [
    {
     "name": "stdout",
     "output_type": "stream",
     "text": [
      "2354     0\n",
      "9734     1\n",
      "9332     0\n",
      "10831    0\n",
      "3125     1\n",
      "9836     0\n",
      "302      1\n",
      "9872     0\n",
      "4638     0\n",
      "9309     0\n",
      "Name: class_label, dtype: int64\n"
     ]
    }
   ],
   "source": [
    "print (y_train[:10])"
   ]
  },
  {
   "cell_type": "code",
   "execution_count": 19,
   "id": "cd305dbc",
   "metadata": {},
   "outputs": [
    {
     "name": "stdout",
     "output_type": "stream",
     "text": [
      "(8700, 24501)\n",
      "(2176, 24501)\n"
     ]
    }
   ],
   "source": [
    "from sklearn.feature_extraction.text import CountVectorizer\n",
    "\n",
    "count_vectorizer = CountVectorizer(analyzer='word', token_pattern=r'\\w+')\n",
    "\n",
    "bow = dict()\n",
    "bow[\"train\"] = (count_vectorizer.fit_transform(X_train), y_train)\n",
    "bow[\"test\"]  = (count_vectorizer.transform(X_test), y_test)\n",
    "print(bow[\"train\"][0].shape)\n",
    "print(bow[\"test\"][0].shape)"
   ]
  },
  {
   "cell_type": "code",
   "execution_count": 20,
   "id": "45490480",
   "metadata": {},
   "outputs": [
    {
     "name": "stdout",
     "output_type": "stream",
     "text": [
      "(8700, 24501)\n",
      "(2176, 24501)\n"
     ]
    }
   ],
   "source": [
    "from sklearn.feature_extraction.text import TfidfVectorizer\n",
    "\n",
    "tfidf_vectorizer = TfidfVectorizer(analyzer='word', token_pattern=r'\\w+')\n",
    "\n",
    "tfidf = dict()\n",
    "tfidf[\"train\"] = (tfidf_vectorizer.fit_transform(X_train), y_train)\n",
    "tfidf[\"test\"]  = (tfidf_vectorizer.transform(X_test), y_test)\n",
    "\n",
    "print(tfidf[\"train\"][0].shape)\n",
    "print(tfidf[\"test\"][0].shape)\n"
   ]
  },
  {
   "cell_type": "code",
   "execution_count": null,
   "id": "09aefdfb",
   "metadata": {},
   "outputs": [],
   "source": []
  },
  {
   "cell_type": "code",
   "execution_count": 21,
   "id": "8d835715",
   "metadata": {},
   "outputs": [
    {
     "name": "stdout",
     "output_type": "stream",
     "text": [
      "DONE - [CLASSIFY] Initialize Logistic Regression\n"
     ]
    }
   ],
   "source": [
    "from sklearn.linear_model import LogisticRegression\n",
    "\n",
    "lr_classifier = LogisticRegression(C=30.0, class_weight='balanced', solver='newton-cg', \n",
    "                         multi_class='multinomial', random_state=40)\n",
    "\n",
    "print ('DONE - [CLASSIFY] Initialize Logistic Regression')\n"
   ]
  },
  {
   "cell_type": "code",
   "execution_count": 22,
   "id": "1b6fbc28",
   "metadata": {},
   "outputs": [
    {
     "name": "stdout",
     "output_type": "stream",
     "text": [
      "[CLASSIFY] Initialize Support Vector Machine Classifier\n"
     ]
    }
   ],
   "source": [
    "from sklearn.svm import LinearSVC\n",
    "\n",
    "lsvm_classifier = LinearSVC(C=1.0, class_weight='balanced', multi_class='ovr', random_state=40)\n",
    "\n",
    "print ('[CLASSIFY] Initialize Support Vector Machine Classifier')\n"
   ]
  },
  {
   "cell_type": "code",
   "execution_count": 23,
   "id": "a207c8ef",
   "metadata": {},
   "outputs": [
    {
     "name": "stdout",
     "output_type": "stream",
     "text": [
      "DONE - [CLASSIFY] Initialize Naive Bayes\n"
     ]
    }
   ],
   "source": [
    "from sklearn.naive_bayes import MultinomialNB\n",
    "\n",
    "nb_classifier = MultinomialNB()\n",
    "\n",
    "print ('DONE - [CLASSIFY] Initialize Naive Bayes')"
   ]
  },
  {
   "cell_type": "code",
   "execution_count": 24,
   "id": "7e34b8b6",
   "metadata": {},
   "outputs": [],
   "source": [
    "from sklearn.metrics import accuracy_score, f1_score, precision_score, recall_score, classification_report"
   ]
  },
  {
   "cell_type": "code",
   "execution_count": 25,
   "id": "906b233d",
   "metadata": {},
   "outputs": [
    {
     "name": "stdout",
     "output_type": "stream",
     "text": [
      "DONE - [EVALUATE] Prepare Metrics\n"
     ]
    }
   ],
   "source": [
    "def get_metrics(y_test, y_predicted):  \n",
    "    # true positives / (true positives+false positives)\n",
    "    precision = precision_score(y_test, y_predicted, pos_label=None,\n",
    "                                    average='weighted')             \n",
    "    # true positives / (true positives + false negatives)\n",
    "    recall = recall_score(y_test, y_predicted, pos_label=None,\n",
    "                              average='weighted')\n",
    "    \n",
    "    # harmonic mean of precision and recall\n",
    "    f1 = f1_score(y_test, y_predicted, pos_label=None, average='weighted')\n",
    "    \n",
    "    # true positives + true negatives/ total\n",
    "    accuracy = accuracy_score(y_test, y_predicted)\n",
    "    return accuracy, precision, recall, f1\n",
    "\n",
    "print ('DONE - [EVALUATE] Prepare Metrics')\n"
   ]
  },
  {
   "cell_type": "code",
   "execution_count": 26,
   "id": "2a053f0c",
   "metadata": {},
   "outputs": [
    {
     "name": "stdout",
     "output_type": "stream",
     "text": [
      "DONE - [EVALUATE] Confusion Matrix\n"
     ]
    }
   ],
   "source": [
    "from sklearn.metrics import confusion_matrix\n",
    "\n",
    "def plot_confusion_matrix(cm, classes,\n",
    "                          normalize=False,\n",
    "                          title='Confusion matrix',\n",
    "                          cmap=plt.cm.winter):\n",
    "    if normalize:\n",
    "        cm = cm.astype('float') / cm.sum(axis=1)[:, np.newaxis]\n",
    "    plt.imshow(cm, interpolation='nearest', cmap=cmap)\n",
    "    plt.title(title, fontsize=30)\n",
    "    plt.colorbar()\n",
    "    tick_marks = np.arange(len(classes))\n",
    "    plt.xticks(tick_marks, classes, fontsize=20)\n",
    "    plt.yticks(tick_marks, classes, fontsize=20)\n",
    "    \n",
    "    fmt = '.2f' if normalize else 'd'\n",
    "    thresh = cm.max() / 2.\n",
    "\n",
    "    for i, j in itertools.product(range(cm.shape[0]), range(cm.shape[1])):\n",
    "        plt.text(j, i, format(cm[i, j], fmt), horizontalalignment=\"center\", \n",
    "                 color=\"white\" if cm[i, j] < thresh else \"black\", fontsize=40)\n",
    "    \n",
    "    plt.tight_layout()\n",
    "    plt.ylabel('True label', fontsize=30)\n",
    "    plt.xlabel('Predicted label', fontsize=30)\n",
    "\n",
    "    return plt\n",
    "\n",
    "print ('DONE - [EVALUATE] Confusion Matrix')"
   ]
  },
  {
   "cell_type": "code",
   "execution_count": 27,
   "id": "f096dc45",
   "metadata": {},
   "outputs": [
    {
     "name": "stdout",
     "output_type": "stream",
     "text": [
      "DONE - [EMBEDDING] CHOOSE EMBEDDING\n",
      "DONE - [CLASSIFY] CHOOSE CLASSIFIER\n"
     ]
    }
   ],
   "source": [
    "embedding = bow                  # bow | tfidf | w2v\n",
    "\n",
    "print ('DONE - [EMBEDDING] CHOOSE EMBEDDING')\n",
    "\n",
    "classifier = lr_classifier     # lr_classifier | lsvm_classifier | nb_classifier| dt_classifier\n",
    "\n",
    "print ('DONE - [CLASSIFY] CHOOSE CLASSIFIER')"
   ]
  },
  {
   "cell_type": "code",
   "execution_count": 29,
   "id": "1f54efe3",
   "metadata": {},
   "outputs": [
    {
     "name": "stdout",
     "output_type": "stream",
     "text": [
      "DONE - [CLASSIFY] Train Classifier on Embeddings\n"
     ]
    }
   ],
   "source": [
    "classifier.fit(*embedding[\"train\"])\n",
    "y_predict = classifier.predict(embedding[\"test\"][0])\n",
    "print ('DONE - [CLASSIFY] Train Classifier on Embeddings')"
   ]
  },
  {
   "cell_type": "code",
   "execution_count": 30,
   "id": "ec83bb6d",
   "metadata": {},
   "outputs": [
    {
     "name": "stdout",
     "output_type": "stream",
     "text": [
      "accuracy = 0.770, precision = 0.768, recall = 0.770, f1 = 0.768\n"
     ]
    }
   ],
   "source": [
    "accuracy, precision, recall, f1 = get_metrics(embedding[\"test\"][1], y_predict)\n",
    "print(\"accuracy = %.3f, precision = %.3f, recall = %.3f, f1 = %.3f\" % (accuracy, precision, recall, f1))"
   ]
  },
  {
   "cell_type": "code",
   "execution_count": 31,
   "id": "722e292a",
   "metadata": {},
   "outputs": [
    {
     "data": {
      "image/png": "[encoded data removed]",
      "text/plain": [
       "<Figure size 720x720 with 2 Axes>"
      ]
     },
     "metadata": {
      "needs_background": "light"
     },
     "output_type": "display_data"
    }
   ],
   "source": [
    "cm = confusion_matrix(embedding[\"test\"][1], y_predict)\n",
    "fig = plt.figure(figsize=(10, 10))\n",
    "plot = plot_confusion_matrix(cm, classes=['Irrelevant','Disaster', 'Unsure'], normalize=False, title='Confusion Matrix')\n",
    "plt.show()"
   ]
  }
 ],
 "metadata": {
  "kernelspec": {
   "display_name": "Python 3",
   "language": "python",
   "name": "python3"
  },
  "language_info": {
   "codemirror_mode": {
    "name": "ipython",
    "version": 3
   },
   "file_extension": ".py",
   "mimetype": "text/x-python",
   "name": "python",
   "nbconvert_exporter": "python",
   "pygments_lexer": "ipython3",
   "version": "3.6.9"
  }
 },
 "nbformat": 4,
 "nbformat_minor": 5
}
